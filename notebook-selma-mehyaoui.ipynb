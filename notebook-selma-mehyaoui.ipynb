{
 "cells": [
  {
   "cell_type": "code",
   "execution_count": 1,
   "id": "43841541",
   "metadata": {
    "_cell_guid": "b1076dfc-b9ad-4769-8c92-a6c4dae69d19",
    "_uuid": "8f2839f25d086af736a60e9eeb907d3b93b6e0e5",
    "execution": {
     "iopub.execute_input": "2022-11-02T16:41:44.749978Z",
     "iopub.status.busy": "2022-11-02T16:41:44.749473Z",
     "iopub.status.idle": "2022-11-02T16:41:44.795933Z",
     "shell.execute_reply": "2022-11-02T16:41:44.794589Z"
    },
    "papermill": {
     "duration": 0.059708,
     "end_time": "2022-11-02T16:41:44.799500",
     "exception": false,
     "start_time": "2022-11-02T16:41:44.739792",
     "status": "completed"
    },
    "tags": []
   },
   "outputs": [
    {
     "name": "stdout",
     "output_type": "stream",
     "text": [
      "/kaggle/input/blood-transfusion-dataset/transfusion.csv\n",
      "/kaggle/input/top50spotify2019/top50.csv\n",
      "/kaggle/input/spotify-charts/charts.csv\n",
      "/kaggle/input/diabetes-dataset/diabetes.csv\n",
      "/kaggle/input/covid-19-coronavirus-pandemic-dataset/Covid Live.csv\n"
     ]
    }
   ],
   "source": [
    "# Bienvenue sur mon NoteBook ! \n",
    "# J'ai traité des données recensant les cas de diabète dans un échantillon de population \n",
    "# et ai comparé les performances de prédicteurs/classifieurs de base sur un jeu de \n",
    "# features que j'ai préalablement choisi(s).\n",
    "# Please feel free to comment!\n",
    "\n",
    "#This Python 3 environment comes with many helpful analytics libraries installed\n",
    "# It is defined by the kaggle/python Docker image: https://github.com/kaggle/docker-python\n",
    "# For example, here's several helpful packages to load\n",
    "\n",
    "import numpy as np # linear algebra\n",
    "import pandas as pd # data processing, CSV file I/O (e.g. pd.read_csv)\n",
    "import plotly as pl\n",
    "# Input data files are available in the read-only \"../input/\" directory\n",
    "# For example, running this (by clicking run or pressing Shift+Enter) will list all files under the input directory\n",
    "\n",
    "import os\n",
    "for dirname, _, filenames in os.walk('/kaggle/input'):\n",
    "    for filename in filenames:\n",
    "        print(os.path.join(dirname, filename))\n",
    "\n",
    "# You can write up to 20GB to the current directory (/kaggle/working/) that gets preserved as output when you create a version using \"Save & Run All\" \n",
    "# You can also write temporary files to /kaggle/temp/, but they won't be saved outside of the current session"
   ]
  },
  {
   "cell_type": "code",
   "execution_count": null,
   "id": "9fbb05e0",
   "metadata": {
    "papermill": {
     "duration": 0.006244,
     "end_time": "2022-11-02T16:41:44.813105",
     "exception": false,
     "start_time": "2022-11-02T16:41:44.806861",
     "status": "completed"
    },
    "tags": []
   },
   "outputs": [],
   "source": []
  },
  {
   "cell_type": "code",
   "execution_count": 2,
   "id": "18596db5",
   "metadata": {
    "execution": {
     "iopub.execute_input": "2022-11-02T16:41:44.831306Z",
     "iopub.status.busy": "2022-11-02T16:41:44.830513Z",
     "iopub.status.idle": "2022-11-02T16:41:44.873942Z",
     "shell.execute_reply": "2022-11-02T16:41:44.872654Z"
    },
    "papermill": {
     "duration": 0.057415,
     "end_time": "2022-11-02T16:41:44.876911",
     "exception": false,
     "start_time": "2022-11-02T16:41:44.819496",
     "status": "completed"
    },
    "tags": []
   },
   "outputs": [],
   "source": [
    "Transfusion=pd.read_csv('/kaggle/input/blood-transfusion-dataset/transfusion.csv')\n",
    "Covid=pd.read_csv('../input/covid-19-coronavirus-pandemic-dataset/Covid Live.csv')\n",
    "Diabete=pd.read_csv('../input/diabetes-dataset/diabetes.csv')"
   ]
  },
  {
   "cell_type": "code",
   "execution_count": 3,
   "id": "ef93f351",
   "metadata": {
    "execution": {
     "iopub.execute_input": "2022-11-02T16:41:44.891679Z",
     "iopub.status.busy": "2022-11-02T16:41:44.891198Z",
     "iopub.status.idle": "2022-11-02T16:41:44.915050Z",
     "shell.execute_reply": "2022-11-02T16:41:44.913788Z"
    },
    "papermill": {
     "duration": 0.034267,
     "end_time": "2022-11-02T16:41:44.917714",
     "exception": false,
     "start_time": "2022-11-02T16:41:44.883447",
     "status": "completed"
    },
    "tags": []
   },
   "outputs": [
    {
     "data": {
      "text/html": [
       "<div>\n",
       "<style scoped>\n",
       "    .dataframe tbody tr th:only-of-type {\n",
       "        vertical-align: middle;\n",
       "    }\n",
       "\n",
       "    .dataframe tbody tr th {\n",
       "        vertical-align: top;\n",
       "    }\n",
       "\n",
       "    .dataframe thead th {\n",
       "        text-align: right;\n",
       "    }\n",
       "</style>\n",
       "<table border=\"1\" class=\"dataframe\">\n",
       "  <thead>\n",
       "    <tr style=\"text-align: right;\">\n",
       "      <th></th>\n",
       "      <th>Pregnancies</th>\n",
       "      <th>Glucose</th>\n",
       "      <th>BloodPressure</th>\n",
       "      <th>SkinThickness</th>\n",
       "      <th>Insulin</th>\n",
       "      <th>BMI</th>\n",
       "      <th>DiabetesPedigreeFunction</th>\n",
       "      <th>Age</th>\n",
       "      <th>Outcome</th>\n",
       "    </tr>\n",
       "  </thead>\n",
       "  <tbody>\n",
       "    <tr>\n",
       "      <th>0</th>\n",
       "      <td>6</td>\n",
       "      <td>148</td>\n",
       "      <td>72</td>\n",
       "      <td>35</td>\n",
       "      <td>0</td>\n",
       "      <td>33.6</td>\n",
       "      <td>0.627</td>\n",
       "      <td>50</td>\n",
       "      <td>1</td>\n",
       "    </tr>\n",
       "    <tr>\n",
       "      <th>1</th>\n",
       "      <td>1</td>\n",
       "      <td>85</td>\n",
       "      <td>66</td>\n",
       "      <td>29</td>\n",
       "      <td>0</td>\n",
       "      <td>26.6</td>\n",
       "      <td>0.351</td>\n",
       "      <td>31</td>\n",
       "      <td>0</td>\n",
       "    </tr>\n",
       "    <tr>\n",
       "      <th>2</th>\n",
       "      <td>8</td>\n",
       "      <td>183</td>\n",
       "      <td>64</td>\n",
       "      <td>0</td>\n",
       "      <td>0</td>\n",
       "      <td>23.3</td>\n",
       "      <td>0.672</td>\n",
       "      <td>32</td>\n",
       "      <td>1</td>\n",
       "    </tr>\n",
       "    <tr>\n",
       "      <th>3</th>\n",
       "      <td>1</td>\n",
       "      <td>89</td>\n",
       "      <td>66</td>\n",
       "      <td>23</td>\n",
       "      <td>94</td>\n",
       "      <td>28.1</td>\n",
       "      <td>0.167</td>\n",
       "      <td>21</td>\n",
       "      <td>0</td>\n",
       "    </tr>\n",
       "    <tr>\n",
       "      <th>4</th>\n",
       "      <td>0</td>\n",
       "      <td>137</td>\n",
       "      <td>40</td>\n",
       "      <td>35</td>\n",
       "      <td>168</td>\n",
       "      <td>43.1</td>\n",
       "      <td>2.288</td>\n",
       "      <td>33</td>\n",
       "      <td>1</td>\n",
       "    </tr>\n",
       "  </tbody>\n",
       "</table>\n",
       "</div>"
      ],
      "text/plain": [
       "   Pregnancies  Glucose  BloodPressure  SkinThickness  Insulin   BMI  \\\n",
       "0            6      148             72             35        0  33.6   \n",
       "1            1       85             66             29        0  26.6   \n",
       "2            8      183             64              0        0  23.3   \n",
       "3            1       89             66             23       94  28.1   \n",
       "4            0      137             40             35      168  43.1   \n",
       "\n",
       "   DiabetesPedigreeFunction  Age  Outcome  \n",
       "0                     0.627   50        1  \n",
       "1                     0.351   31        0  \n",
       "2                     0.672   32        1  \n",
       "3                     0.167   21        0  \n",
       "4                     2.288   33        1  "
      ]
     },
     "execution_count": 3,
     "metadata": {},
     "output_type": "execute_result"
    }
   ],
   "source": [
    "Diabete.head()\n"
   ]
  },
  {
   "cell_type": "code",
   "execution_count": 4,
   "id": "776a623b",
   "metadata": {
    "execution": {
     "iopub.execute_input": "2022-11-02T16:41:44.933500Z",
     "iopub.status.busy": "2022-11-02T16:41:44.932430Z",
     "iopub.status.idle": "2022-11-02T16:41:44.950905Z",
     "shell.execute_reply": "2022-11-02T16:41:44.949560Z"
    },
    "papermill": {
     "duration": 0.029261,
     "end_time": "2022-11-02T16:41:44.953691",
     "exception": false,
     "start_time": "2022-11-02T16:41:44.924430",
     "status": "completed"
    },
    "tags": []
   },
   "outputs": [
    {
     "data": {
      "text/plain": [
       "count    768.000000\n",
       "mean       3.845052\n",
       "std        3.369578\n",
       "min        0.000000\n",
       "25%        1.000000\n",
       "50%        3.000000\n",
       "75%        6.000000\n",
       "max       17.000000\n",
       "Name: Pregnancies, dtype: float64"
      ]
     },
     "execution_count": 4,
     "metadata": {},
     "output_type": "execute_result"
    }
   ],
   "source": [
    "Diabete.Pregnancies.describe()"
   ]
  },
  {
   "cell_type": "code",
   "execution_count": 5,
   "id": "85c5287e",
   "metadata": {
    "execution": {
     "iopub.execute_input": "2022-11-02T16:41:44.969359Z",
     "iopub.status.busy": "2022-11-02T16:41:44.968918Z",
     "iopub.status.idle": "2022-11-02T16:41:44.982928Z",
     "shell.execute_reply": "2022-11-02T16:41:44.981244Z"
    },
    "papermill": {
     "duration": 0.025045,
     "end_time": "2022-11-02T16:41:44.985768",
     "exception": false,
     "start_time": "2022-11-02T16:41:44.960723",
     "status": "completed"
    },
    "tags": []
   },
   "outputs": [
    {
     "name": "stdout",
     "output_type": "stream",
     "text": [
      "768\n"
     ]
    },
    {
     "data": {
      "text/plain": [
       "0      0\n",
       "1      0\n",
       "2      0\n",
       "5      0\n",
       "7      0\n",
       "      ..\n",
       "761    0\n",
       "762    0\n",
       "764    0\n",
       "766    0\n",
       "767    0\n",
       "Name: Insulin, Length: 374, dtype: int64"
      ]
     },
     "execution_count": 5,
     "metadata": {},
     "output_type": "execute_result"
    }
   ],
   "source": [
    "\n",
    "print(len(Diabete.Insulin))\n",
    "Diabete.Insulin[Diabete.Insulin==0]"
   ]
  },
  {
   "cell_type": "code",
   "execution_count": 6,
   "id": "e2f14cca",
   "metadata": {
    "execution": {
     "iopub.execute_input": "2022-11-02T16:41:45.001922Z",
     "iopub.status.busy": "2022-11-02T16:41:45.001430Z",
     "iopub.status.idle": "2022-11-02T16:41:46.469736Z",
     "shell.execute_reply": "2022-11-02T16:41:46.468119Z"
    },
    "papermill": {
     "duration": 1.479819,
     "end_time": "2022-11-02T16:41:46.472713",
     "exception": false,
     "start_time": "2022-11-02T16:41:44.992894",
     "status": "completed"
    },
    "tags": []
   },
   "outputs": [
    {
     "name": "stdout",
     "output_type": "stream",
     "text": [
      "Validation MAE when not specifying max_leaf_nodes:\n",
      "0.3385416666666667\n",
      "50\n",
      "Validation MAE for best value of max_leaf_nodes:\n",
      "0.305143065506117\n"
     ]
    }
   ],
   "source": [
    "import pandas as pd\n",
    "from sklearn.metrics import mean_absolute_error\n",
    "from sklearn.model_selection import train_test_split\n",
    "from sklearn.tree import DecisionTreeRegressor\n",
    "from sklearn.metrics import confusion_matrix\n",
    "\n",
    "# Create target object and call it y\n",
    "y = Diabete.Outcome\n",
    "# Create X\n",
    "features = ['Glucose','Pregnancies', 'BloodPressure', 'SkinThickness', 'Insulin', 'Age']\n",
    "X = Diabete[features]\n",
    "\n",
    "# Split into validation and training data\n",
    "train_X, val_X, train_y, val_y = train_test_split(X, y, random_state=1)\n",
    "\n",
    "# Specify Model\n",
    "diabete_model = DecisionTreeRegressor(random_state=1)\n",
    "# Fit Model\n",
    "diabete_model.fit(train_X, train_y)\n",
    "\n",
    "# Make validation predictions and calculate mean absolute error\n",
    "val_predictions = diabete_model.predict(val_X)\n",
    "val_mae = mean_absolute_error(val_predictions, val_y)\n",
    "\n",
    "#confusion_matrix(val_predictions, val_y)\n",
    "print(\"Validation MAE when not specifying max_leaf_nodes:\")\n",
    "print(val_mae)\n",
    "\n",
    "#TROUVER MAX LEAF NODES\n",
    "leaf_depth=[25, 50, 100, 150, 200]\n",
    "MAE_tab=[]\n",
    "for k in range(len(leaf_depth)):\n",
    "    diabete_model=DecisionTreeRegressor(max_leaf_nodes=leaf_depth[k], random_state=1)\n",
    "    diabete_model.fit(train_X, train_y)\n",
    "    val_predictions=diabete_model.predict(val_X)\n",
    "    MAE_tab.append(mean_absolute_error(val_predictions, val_y))\n",
    "index_mae=MAE_tab.index(min(MAE_tab))  \n",
    "best_leaf_depth=leaf_depth[index_mae]\n",
    "print(best_leaf_depth)  \n",
    "\n",
    "\n",
    "# Using best value for max_leaf_nodes\n",
    "diabete_model = DecisionTreeRegressor(max_leaf_nodes=best_leaf_depth, random_state=1)\n",
    "diabete_model.fit(train_X, train_y)\n",
    "val_predictions = diabete_model.predict(val_X)\n",
    "val_mae = mean_absolute_error(val_predictions, val_y)\n",
    "#confusion_matrix(val_predictions, val_y)\n",
    "#print(confusion_matrix)\n",
    "print(\"Validation MAE for best value of max_leaf_nodes:\")\n",
    "print(val_mae)\n",
    "\n",
    "\n",
    "\n"
   ]
  },
  {
   "cell_type": "code",
   "execution_count": 7,
   "id": "0476f104",
   "metadata": {
    "execution": {
     "iopub.execute_input": "2022-11-02T16:41:46.490887Z",
     "iopub.status.busy": "2022-11-02T16:41:46.490443Z",
     "iopub.status.idle": "2022-11-02T16:41:46.500594Z",
     "shell.execute_reply": "2022-11-02T16:41:46.499000Z"
    },
    "papermill": {
     "duration": 0.024725,
     "end_time": "2022-11-02T16:41:46.504609",
     "exception": false,
     "start_time": "2022-11-02T16:41:46.479884",
     "status": "completed"
    },
    "tags": []
   },
   "outputs": [
    {
     "name": "stdout",
     "output_type": "stream",
     "text": [
      "[0.         1.         0.12605042 1.         0.12605042 0.\n",
      " 0.07692308 0.12605042 0.         0.         0.64285714 0.\n",
      " 0.86764706 1.         0.         0.86764706 0.11764706 0.3125\n",
      " 0.12605042 0.12605042 0.11764706 0.         0.86764706 0.9\n",
      " 0.12605042 0.3125     0.         0.86764706 0.12605042 1.\n",
      " 0.         1.         0.12605042 0.86764706 0.07692308 0.64285714\n",
      " 0.         0.12605042 0.         0.9        0.         0.12605042\n",
      " 0.         0.11764706 0.12605042 0.         0.86764706 0.86764706\n",
      " 0.12605042 0.         0.         0.12605042 0.86764706 0.\n",
      " 0.9        0.12605042 0.         0.11111111 0.         1.\n",
      " 0.64285714 0.         1.         0.         1.         0.\n",
      " 0.         0.75       1.         1.         0.86764706 0.86764706\n",
      " 0.12605042 0.         1.         0.9        0.28571429 0.28571429\n",
      " 0.         0.28571429 0.64285714 0.12605042 0.11111111 0.12605042\n",
      " 0.         0.86764706 0.11764706 1.         0.28571429 1.\n",
      " 0.         0.         0.12605042 0.11111111 0.86764706 0.5\n",
      " 0.11764706 0.         0.86764706 0.         0.12605042 0.\n",
      " 0.86764706 0.         0.12605042 0.         0.         0.64285714\n",
      " 0.         0.12605042 0.86764706 0.         0.28571429 0.12605042\n",
      " 0.         0.         0.         0.         0.12605042 0.11764706\n",
      " 0.12605042 0.86764706 0.9        0.         0.         0.12605042\n",
      " 0.         0.         0.         0.12605042 0.86764706 0.11111111\n",
      " 1.         0.12605042 1.         0.         0.         0.64285714\n",
      " 0.         0.11111111 0.86764706 0.12605042 0.11764706 0.5\n",
      " 0.         0.         0.         0.         0.         0.\n",
      " 0.12605042 0.86764706 0.64285714 1.         0.         0.9\n",
      " 0.11764706 0.11111111 0.11764706 0.12605042 0.         0.5\n",
      " 0.         0.12605042 0.33333333 0.         0.12605042 0.\n",
      " 0.86764706 1.         0.86764706 0.86764706 0.         0.12605042\n",
      " 0.86764706 0.         0.86764706 0.12605042 0.07692308 0.11764706\n",
      " 0.         0.86764706 0.12605042 0.86764706 0.12605042 0.\n",
      " 0.         0.         0.28571429 0.12605042 0.         0.        ]\n",
      "285    0\n",
      "101    0\n",
      "581    0\n",
      "352    0\n",
      "726    0\n",
      "      ..\n",
      "247    0\n",
      "189    1\n",
      "139    0\n",
      "518    0\n",
      "629    0\n",
      "Name: Outcome, Length: 192, dtype: int64\n"
     ]
    }
   ],
   "source": [
    "print(val_predictions)\n",
    "print(val_y)"
   ]
  },
  {
   "cell_type": "code",
   "execution_count": 8,
   "id": "b3c93859",
   "metadata": {
    "execution": {
     "iopub.execute_input": "2022-11-02T16:41:46.521836Z",
     "iopub.status.busy": "2022-11-02T16:41:46.520236Z",
     "iopub.status.idle": "2022-11-02T16:41:46.823179Z",
     "shell.execute_reply": "2022-11-02T16:41:46.821836Z"
    },
    "papermill": {
     "duration": 0.313888,
     "end_time": "2022-11-02T16:41:46.825680",
     "exception": false,
     "start_time": "2022-11-02T16:41:46.511792",
     "status": "completed"
    },
    "tags": []
   },
   "outputs": [
    {
     "name": "stdout",
     "output_type": "stream",
     "text": [
      "[1 0 0 0 0 0 0 0 0 0 0 0 1 1 0 1 0 0 0 0 0 0 1 0 0 1 0 1 0 1 0 0 0 1 0 1 0\n",
      " 0 0 0 0 0 0 0 0 0 1 1 0 0 0 0 1 0 1 0 1 0 0 0 1 0 1 0 1 0 0 1 1 1 1 1 0 0\n",
      " 1 1 1 0 0 1 0 0 0 0 0 1 0 0 1 0 0 0 0 0 1 1 1 0 1 0 0 0 1 0 0 0 1 0 0 0 1\n",
      " 0 0 0 0 0 0 0 0 0 0 1 0 0 0 0 0 0 1 0 1 0 1 0 0 0 0 0 0 0 1 0 0 0 1 1 0 0\n",
      " 0 0 0 1 0 0 1 1 0 0 0 0 1 1 0 0 0 0 0 1 1 1 1 1 0 0 1 0 1 0 0 0 0 1 0 1 0\n",
      " 0 0 1 0 0 0 0]\n",
      "285    0\n",
      "101    0\n",
      "581    0\n",
      "352    0\n",
      "726    0\n",
      "      ..\n",
      "247    0\n",
      "189    1\n",
      "139    0\n",
      "518    0\n",
      "629    0\n",
      "Name: Outcome, Length: 192, dtype: int64\n",
      "Validation MAE\n",
      "0.203125\n"
     ]
    }
   ],
   "source": [
    "import pandas as pd\n",
    "from sklearn.metrics import mean_absolute_error\n",
    "from sklearn.model_selection import train_test_split\n",
    "from sklearn.ensemble import RandomForestClassifier\n",
    "from sklearn.metrics import confusion_matrix\n",
    "\n",
    "#RANDOM FOREST\n",
    "# Specify Model\n",
    "diabete_model = RandomForestClassifier(random_state=1)\n",
    "# Fit Model\n",
    "diabete_model.fit(train_X, train_y)\n",
    "\n",
    "# Make validation predictions and calculate mean absolute error\n",
    "val_predictions = diabete_model.predict(val_X)\n",
    "val_mae = mean_absolute_error(val_predictions, val_y)\n",
    "print(val_predictions)\n",
    "print(val_y)\n",
    "print(\"Validation MAE\")\n",
    "print(val_mae)\n"
   ]
  },
  {
   "cell_type": "code",
   "execution_count": 9,
   "id": "8f4fed76",
   "metadata": {
    "execution": {
     "iopub.execute_input": "2022-11-02T16:41:46.842247Z",
     "iopub.status.busy": "2022-11-02T16:41:46.841455Z",
     "iopub.status.idle": "2022-11-02T16:41:46.852450Z",
     "shell.execute_reply": "2022-11-02T16:41:46.851146Z"
    },
    "papermill": {
     "duration": 0.022543,
     "end_time": "2022-11-02T16:41:46.855456",
     "exception": false,
     "start_time": "2022-11-02T16:41:46.832913",
     "status": "completed"
    },
    "tags": []
   },
   "outputs": [
    {
     "name": "stdout",
     "output_type": "stream",
     "text": [
      "[[109  25]\n",
      " [ 14  44]]\n",
      "0.203125\n"
     ]
    }
   ],
   "source": [
    "A=confusion_matrix(val_predictions, val_y)\n",
    "print(A)\n",
    "a=A[0][1]\n",
    "b=A[1][0]\n",
    "mae_homemade=(a+b)/sum(sum(A))\n",
    "print(mae_homemade)"
   ]
  },
  {
   "cell_type": "code",
   "execution_count": 10,
   "id": "a53cd3d5",
   "metadata": {
    "execution": {
     "iopub.execute_input": "2022-11-02T16:41:46.871767Z",
     "iopub.status.busy": "2022-11-02T16:41:46.871341Z",
     "iopub.status.idle": "2022-11-02T16:41:46.879705Z",
     "shell.execute_reply": "2022-11-02T16:41:46.877805Z"
    },
    "papermill": {
     "duration": 0.019466,
     "end_time": "2022-11-02T16:41:46.882240",
     "exception": false,
     "start_time": "2022-11-02T16:41:46.862774",
     "status": "completed"
    },
    "tags": []
   },
   "outputs": [
    {
     "name": "stdout",
     "output_type": "stream",
     "text": [
      "268\n",
      "768\n",
      "Le pourcentage de diabètes vaut : \n",
      "34.89583333333333\n"
     ]
    }
   ],
   "source": [
    "Ndiabetes=sum(Diabete.Outcome)\n",
    "print(Ndiabetes)\n",
    "Ntotal=Diabete['Outcome'].size\n",
    "print(Ntotal)\n",
    "RatioDiabetes=Ndiabetes/Ntotal\n",
    "PercentDiabetes=RatioDiabetes*100\n",
    "print('Le pourcentage de diabètes vaut : ') \n",
    "print(PercentDiabetes)\n",
    "\n"
   ]
  },
  {
   "cell_type": "code",
   "execution_count": 11,
   "id": "9152c7f3",
   "metadata": {
    "execution": {
     "iopub.execute_input": "2022-11-02T16:41:46.898985Z",
     "iopub.status.busy": "2022-11-02T16:41:46.898543Z",
     "iopub.status.idle": "2022-11-02T16:41:49.542225Z",
     "shell.execute_reply": "2022-11-02T16:41:49.540935Z"
    },
    "papermill": {
     "duration": 2.655333,
     "end_time": "2022-11-02T16:41:49.545112",
     "exception": false,
     "start_time": "2022-11-02T16:41:46.889779",
     "status": "completed"
    },
    "tags": []
   },
   "outputs": [
    {
     "data": {
      "text/html": [
       "        <script type=\"text/javascript\">\n",
       "        window.PlotlyConfig = {MathJaxConfig: 'local'};\n",
       "        if (window.MathJax && window.MathJax.Hub && window.MathJax.Hub.Config) {window.MathJax.Hub.Config({SVG: {font: \"STIX-Web\"}});}\n",
       "        if (typeof require !== 'undefined') {\n",
       "        require.undef(\"plotly\");\n",
       "        requirejs.config({\n",
       "            paths: {\n",
       "                'plotly': ['https://cdn.plot.ly/plotly-2.14.0.min']\n",
       "            }\n",
       "        });\n",
       "        require(['plotly'], function(Plotly) {\n",
       "            window._Plotly = Plotly;\n",
       "        });\n",
       "        }\n",
       "        </script>\n",
       "        "
      ]
     },
     "metadata": {},
     "output_type": "display_data"
    },
    {
     "data": {
      "text/html": [
       "<div>                            <div id=\"4f4f352b-75de-4f9f-ae64-1befc8208449\" class=\"plotly-graph-div\" style=\"height:525px; width:100%;\"></div>            <script type=\"text/javascript\">                require([\"plotly\"], function(Plotly) {                    window.PLOTLYENV=window.PLOTLYENV || {};                                    if (document.getElementById(\"4f4f352b-75de-4f9f-ae64-1befc8208449\")) {                    Plotly.newPlot(                        \"4f4f352b-75de-4f9f-ae64-1befc8208449\",                        [{\"hovertemplate\":\"x=%{x}<br>y=%{y}<extra></extra>\",\"legendgroup\":\"\",\"marker\":{\"color\":\"#636efa\",\"symbol\":\"circle\"},\"mode\":\"markers\",\"name\":\"\",\"orientation\":\"v\",\"showlegend\":false,\"x\":[135,0,0,0,180,0,0,50,0,142,0,73,14,144,89,0,96,22,0,0,122,0,114,0,44,0,160,0,105,0,0,0,49,510,0,180,16,125,0,0,148,116,0,58,56,0,543,0,265,0,0,81,130,58,0,66,0,0,60,126,545,0,495,140,230,116,0,0,0,165,304,255,0,45,0,0,0,100,182,210,0,120,0,190,57,0,125,54,145,231,415,82,92,90,194,0,140,0,100,165,0,335,0,170,105,0,0,0,0,210,144,94,0,176,0,0,0,127,210,110,0,0,0,110,148,0,67,91,190,130,207,45,155,0,192,106,0,0,64,0,0,18,112,0,0,184,0,0,0,54,140,0,0,0,130,0,105,0,105,0,846,328,105,41,0,48,0,175,168,100,0,0,0,52,225,0,0,63,0,68,215,70,125,0,38,0,0,680,160,325,0,0],\"xaxis\":\"x\",\"y\":[1,0,0,0,0,0,0,0,0,0,0,0,1,1,0,1,0,0,0,0,0,0,1,0,0,1,0,1,0,1,0,0,0,1,0,1,0,0,0,0,0,0,0,0,0,0,1,1,0,0,0,0,1,0,1,0,1,0,0,0,1,0,1,0,1,0,0,1,1,1,1,1,0,0,1,1,1,0,0,1,0,0,0,0,0,1,0,0,1,0,0,0,0,0,1,1,1,0,1,0,0,0,1,0,0,0,1,0,0,0,1,0,0,0,0,0,0,0,0,0,0,1,0,0,0,0,0,0,1,0,1,0,1,0,0,0,0,0,0,0,1,0,0,0,1,1,0,0,0,0,0,1,0,0,1,1,0,0,0,0,1,1,0,0,0,0,0,1,1,1,1,1,0,0,1,0,1,0,0,0,0,1,0,1,0,0,0,1,0,0,0,0],\"yaxis\":\"y\",\"type\":\"scatter\"}],                        {\"template\":{\"data\":{\"histogram2dcontour\":[{\"type\":\"histogram2dcontour\",\"colorbar\":{\"outlinewidth\":0,\"ticks\":\"\"},\"colorscale\":[[0.0,\"#0d0887\"],[0.1111111111111111,\"#46039f\"],[0.2222222222222222,\"#7201a8\"],[0.3333333333333333,\"#9c179e\"],[0.4444444444444444,\"#bd3786\"],[0.5555555555555556,\"#d8576b\"],[0.6666666666666666,\"#ed7953\"],[0.7777777777777778,\"#fb9f3a\"],[0.8888888888888888,\"#fdca26\"],[1.0,\"#f0f921\"]]}],\"choropleth\":[{\"type\":\"choropleth\",\"colorbar\":{\"outlinewidth\":0,\"ticks\":\"\"}}],\"histogram2d\":[{\"type\":\"histogram2d\",\"colorbar\":{\"outlinewidth\":0,\"ticks\":\"\"},\"colorscale\":[[0.0,\"#0d0887\"],[0.1111111111111111,\"#46039f\"],[0.2222222222222222,\"#7201a8\"],[0.3333333333333333,\"#9c179e\"],[0.4444444444444444,\"#bd3786\"],[0.5555555555555556,\"#d8576b\"],[0.6666666666666666,\"#ed7953\"],[0.7777777777777778,\"#fb9f3a\"],[0.8888888888888888,\"#fdca26\"],[1.0,\"#f0f921\"]]}],\"heatmap\":[{\"type\":\"heatmap\",\"colorbar\":{\"outlinewidth\":0,\"ticks\":\"\"},\"colorscale\":[[0.0,\"#0d0887\"],[0.1111111111111111,\"#46039f\"],[0.2222222222222222,\"#7201a8\"],[0.3333333333333333,\"#9c179e\"],[0.4444444444444444,\"#bd3786\"],[0.5555555555555556,\"#d8576b\"],[0.6666666666666666,\"#ed7953\"],[0.7777777777777778,\"#fb9f3a\"],[0.8888888888888888,\"#fdca26\"],[1.0,\"#f0f921\"]]}],\"heatmapgl\":[{\"type\":\"heatmapgl\",\"colorbar\":{\"outlinewidth\":0,\"ticks\":\"\"},\"colorscale\":[[0.0,\"#0d0887\"],[0.1111111111111111,\"#46039f\"],[0.2222222222222222,\"#7201a8\"],[0.3333333333333333,\"#9c179e\"],[0.4444444444444444,\"#bd3786\"],[0.5555555555555556,\"#d8576b\"],[0.6666666666666666,\"#ed7953\"],[0.7777777777777778,\"#fb9f3a\"],[0.8888888888888888,\"#fdca26\"],[1.0,\"#f0f921\"]]}],\"contourcarpet\":[{\"type\":\"contourcarpet\",\"colorbar\":{\"outlinewidth\":0,\"ticks\":\"\"}}],\"contour\":[{\"type\":\"contour\",\"colorbar\":{\"outlinewidth\":0,\"ticks\":\"\"},\"colorscale\":[[0.0,\"#0d0887\"],[0.1111111111111111,\"#46039f\"],[0.2222222222222222,\"#7201a8\"],[0.3333333333333333,\"#9c179e\"],[0.4444444444444444,\"#bd3786\"],[0.5555555555555556,\"#d8576b\"],[0.6666666666666666,\"#ed7953\"],[0.7777777777777778,\"#fb9f3a\"],[0.8888888888888888,\"#fdca26\"],[1.0,\"#f0f921\"]]}],\"surface\":[{\"type\":\"surface\",\"colorbar\":{\"outlinewidth\":0,\"ticks\":\"\"},\"colorscale\":[[0.0,\"#0d0887\"],[0.1111111111111111,\"#46039f\"],[0.2222222222222222,\"#7201a8\"],[0.3333333333333333,\"#9c179e\"],[0.4444444444444444,\"#bd3786\"],[0.5555555555555556,\"#d8576b\"],[0.6666666666666666,\"#ed7953\"],[0.7777777777777778,\"#fb9f3a\"],[0.8888888888888888,\"#fdca26\"],[1.0,\"#f0f921\"]]}],\"mesh3d\":[{\"type\":\"mesh3d\",\"colorbar\":{\"outlinewidth\":0,\"ticks\":\"\"}}],\"scatter\":[{\"fillpattern\":{\"fillmode\":\"overlay\",\"size\":10,\"solidity\":0.2},\"type\":\"scatter\"}],\"parcoords\":[{\"type\":\"parcoords\",\"line\":{\"colorbar\":{\"outlinewidth\":0,\"ticks\":\"\"}}}],\"scatterpolargl\":[{\"type\":\"scatterpolargl\",\"marker\":{\"colorbar\":{\"outlinewidth\":0,\"ticks\":\"\"}}}],\"bar\":[{\"error_x\":{\"color\":\"#2a3f5f\"},\"error_y\":{\"color\":\"#2a3f5f\"},\"marker\":{\"line\":{\"color\":\"#E5ECF6\",\"width\":0.5},\"pattern\":{\"fillmode\":\"overlay\",\"size\":10,\"solidity\":0.2}},\"type\":\"bar\"}],\"scattergeo\":[{\"type\":\"scattergeo\",\"marker\":{\"colorbar\":{\"outlinewidth\":0,\"ticks\":\"\"}}}],\"scatterpolar\":[{\"type\":\"scatterpolar\",\"marker\":{\"colorbar\":{\"outlinewidth\":0,\"ticks\":\"\"}}}],\"histogram\":[{\"marker\":{\"pattern\":{\"fillmode\":\"overlay\",\"size\":10,\"solidity\":0.2}},\"type\":\"histogram\"}],\"scattergl\":[{\"type\":\"scattergl\",\"marker\":{\"colorbar\":{\"outlinewidth\":0,\"ticks\":\"\"}}}],\"scatter3d\":[{\"type\":\"scatter3d\",\"line\":{\"colorbar\":{\"outlinewidth\":0,\"ticks\":\"\"}},\"marker\":{\"colorbar\":{\"outlinewidth\":0,\"ticks\":\"\"}}}],\"scattermapbox\":[{\"type\":\"scattermapbox\",\"marker\":{\"colorbar\":{\"outlinewidth\":0,\"ticks\":\"\"}}}],\"scatterternary\":[{\"type\":\"scatterternary\",\"marker\":{\"colorbar\":{\"outlinewidth\":0,\"ticks\":\"\"}}}],\"scattercarpet\":[{\"type\":\"scattercarpet\",\"marker\":{\"colorbar\":{\"outlinewidth\":0,\"ticks\":\"\"}}}],\"carpet\":[{\"aaxis\":{\"endlinecolor\":\"#2a3f5f\",\"gridcolor\":\"white\",\"linecolor\":\"white\",\"minorgridcolor\":\"white\",\"startlinecolor\":\"#2a3f5f\"},\"baxis\":{\"endlinecolor\":\"#2a3f5f\",\"gridcolor\":\"white\",\"linecolor\":\"white\",\"minorgridcolor\":\"white\",\"startlinecolor\":\"#2a3f5f\"},\"type\":\"carpet\"}],\"table\":[{\"cells\":{\"fill\":{\"color\":\"#EBF0F8\"},\"line\":{\"color\":\"white\"}},\"header\":{\"fill\":{\"color\":\"#C8D4E3\"},\"line\":{\"color\":\"white\"}},\"type\":\"table\"}],\"barpolar\":[{\"marker\":{\"line\":{\"color\":\"#E5ECF6\",\"width\":0.5},\"pattern\":{\"fillmode\":\"overlay\",\"size\":10,\"solidity\":0.2}},\"type\":\"barpolar\"}],\"pie\":[{\"automargin\":true,\"type\":\"pie\"}]},\"layout\":{\"autotypenumbers\":\"strict\",\"colorway\":[\"#636efa\",\"#EF553B\",\"#00cc96\",\"#ab63fa\",\"#FFA15A\",\"#19d3f3\",\"#FF6692\",\"#B6E880\",\"#FF97FF\",\"#FECB52\"],\"font\":{\"color\":\"#2a3f5f\"},\"hovermode\":\"closest\",\"hoverlabel\":{\"align\":\"left\"},\"paper_bgcolor\":\"white\",\"plot_bgcolor\":\"#E5ECF6\",\"polar\":{\"bgcolor\":\"#E5ECF6\",\"angularaxis\":{\"gridcolor\":\"white\",\"linecolor\":\"white\",\"ticks\":\"\"},\"radialaxis\":{\"gridcolor\":\"white\",\"linecolor\":\"white\",\"ticks\":\"\"}},\"ternary\":{\"bgcolor\":\"#E5ECF6\",\"aaxis\":{\"gridcolor\":\"white\",\"linecolor\":\"white\",\"ticks\":\"\"},\"baxis\":{\"gridcolor\":\"white\",\"linecolor\":\"white\",\"ticks\":\"\"},\"caxis\":{\"gridcolor\":\"white\",\"linecolor\":\"white\",\"ticks\":\"\"}},\"coloraxis\":{\"colorbar\":{\"outlinewidth\":0,\"ticks\":\"\"}},\"colorscale\":{\"sequential\":[[0.0,\"#0d0887\"],[0.1111111111111111,\"#46039f\"],[0.2222222222222222,\"#7201a8\"],[0.3333333333333333,\"#9c179e\"],[0.4444444444444444,\"#bd3786\"],[0.5555555555555556,\"#d8576b\"],[0.6666666666666666,\"#ed7953\"],[0.7777777777777778,\"#fb9f3a\"],[0.8888888888888888,\"#fdca26\"],[1.0,\"#f0f921\"]],\"sequentialminus\":[[0.0,\"#0d0887\"],[0.1111111111111111,\"#46039f\"],[0.2222222222222222,\"#7201a8\"],[0.3333333333333333,\"#9c179e\"],[0.4444444444444444,\"#bd3786\"],[0.5555555555555556,\"#d8576b\"],[0.6666666666666666,\"#ed7953\"],[0.7777777777777778,\"#fb9f3a\"],[0.8888888888888888,\"#fdca26\"],[1.0,\"#f0f921\"]],\"diverging\":[[0,\"#8e0152\"],[0.1,\"#c51b7d\"],[0.2,\"#de77ae\"],[0.3,\"#f1b6da\"],[0.4,\"#fde0ef\"],[0.5,\"#f7f7f7\"],[0.6,\"#e6f5d0\"],[0.7,\"#b8e186\"],[0.8,\"#7fbc41\"],[0.9,\"#4d9221\"],[1,\"#276419\"]]},\"xaxis\":{\"gridcolor\":\"white\",\"linecolor\":\"white\",\"ticks\":\"\",\"title\":{\"standoff\":15},\"zerolinecolor\":\"white\",\"automargin\":true,\"zerolinewidth\":2},\"yaxis\":{\"gridcolor\":\"white\",\"linecolor\":\"white\",\"ticks\":\"\",\"title\":{\"standoff\":15},\"zerolinecolor\":\"white\",\"automargin\":true,\"zerolinewidth\":2},\"scene\":{\"xaxis\":{\"backgroundcolor\":\"#E5ECF6\",\"gridcolor\":\"white\",\"linecolor\":\"white\",\"showbackground\":true,\"ticks\":\"\",\"zerolinecolor\":\"white\",\"gridwidth\":2},\"yaxis\":{\"backgroundcolor\":\"#E5ECF6\",\"gridcolor\":\"white\",\"linecolor\":\"white\",\"showbackground\":true,\"ticks\":\"\",\"zerolinecolor\":\"white\",\"gridwidth\":2},\"zaxis\":{\"backgroundcolor\":\"#E5ECF6\",\"gridcolor\":\"white\",\"linecolor\":\"white\",\"showbackground\":true,\"ticks\":\"\",\"zerolinecolor\":\"white\",\"gridwidth\":2}},\"shapedefaults\":{\"line\":{\"color\":\"#2a3f5f\"}},\"annotationdefaults\":{\"arrowcolor\":\"#2a3f5f\",\"arrowhead\":0,\"arrowwidth\":1},\"geo\":{\"bgcolor\":\"white\",\"landcolor\":\"#E5ECF6\",\"subunitcolor\":\"white\",\"showland\":true,\"showlakes\":true,\"lakecolor\":\"white\"},\"title\":{\"x\":0.05},\"mapbox\":{\"style\":\"light\"}}},\"xaxis\":{\"anchor\":\"y\",\"domain\":[0.0,1.0],\"title\":{\"text\":\"x\"}},\"yaxis\":{\"anchor\":\"x\",\"domain\":[0.0,1.0],\"title\":{\"text\":\"y\"}},\"legend\":{\"tracegroupgap\":0},\"margin\":{\"t\":60}},                        {\"responsive\": true}                    ).then(function(){\n",
       "                            \n",
       "var gd = document.getElementById('4f4f352b-75de-4f9f-ae64-1befc8208449');\n",
       "var x = new MutationObserver(function (mutations, observer) {{\n",
       "        var display = window.getComputedStyle(gd).display;\n",
       "        if (!display || display === 'none') {{\n",
       "            console.log([gd, 'removed!']);\n",
       "            Plotly.purge(gd);\n",
       "            observer.disconnect();\n",
       "        }}\n",
       "}});\n",
       "\n",
       "// Listen for the removal of the full notebook cells\n",
       "var notebookContainer = gd.closest('#notebook-container');\n",
       "if (notebookContainer) {{\n",
       "    x.observe(notebookContainer, {childList: true});\n",
       "}}\n",
       "\n",
       "// Listen for the clearing of the current output cell\n",
       "var outputEl = gd.closest('.output');\n",
       "if (outputEl) {{\n",
       "    x.observe(outputEl, {childList: true});\n",
       "}}\n",
       "\n",
       "                        })                };                });            </script>        </div>"
      ]
     },
     "metadata": {},
     "output_type": "display_data"
    }
   ],
   "source": [
    "import plotly.express as px\n",
    "px.scatter(x=val_X.Glucose, y=val_predictions)\n",
    "px.scatter(x=val_X.Insulin, y=val_predictions)"
   ]
  },
  {
   "cell_type": "code",
   "execution_count": 12,
   "id": "26d0668a",
   "metadata": {
    "execution": {
     "iopub.execute_input": "2022-11-02T16:41:49.562939Z",
     "iopub.status.busy": "2022-11-02T16:41:49.562519Z",
     "iopub.status.idle": "2022-11-02T16:41:52.389132Z",
     "shell.execute_reply": "2022-11-02T16:41:52.386730Z"
    },
    "papermill": {
     "duration": 2.839074,
     "end_time": "2022-11-02T16:41:52.391996",
     "exception": false,
     "start_time": "2022-11-02T16:41:49.552922",
     "status": "completed"
    },
    "tags": []
   },
   "outputs": [
    {
     "name": "stdout",
     "output_type": "stream",
     "text": [
      "Model 1 MAE: 0\n",
      "Model 2 MAE: 0\n",
      "Model 3 MAE: 0\n",
      "Model 4 MAE: 0\n",
      "Model 5 MAE: 0\n",
      "4\n"
     ]
    }
   ],
   "source": [
    "from sklearn.ensemble import RandomForestRegressor\n",
    "\n",
    "# COMPARING RANDOM FOREST ACCURACIES\n",
    "\n",
    "# Define the models\n",
    "model_1 = RandomForestRegressor(n_estimators=50, random_state=0)\n",
    "model_2 = RandomForestRegressor(n_estimators=100, random_state=0)\n",
    "model_3 = RandomForestRegressor(n_estimators=100, criterion='absolute_error', random_state=0)\n",
    "model_4 = RandomForestRegressor(n_estimators=200, min_samples_split=20, random_state=0)\n",
    "model_5 = RandomForestRegressor(n_estimators=100, max_depth=7, random_state=0)\n",
    "\n",
    "models = [model_1, model_2, model_3, model_4, model_5]\n",
    "\n",
    "from sklearn.metrics import mean_absolute_error\n",
    "\n",
    "# Function for comparing different models\n",
    "def score_model(model, X_t=train_X, X_v=val_X, y_t=train_y, y_v=val_y):\n",
    "    model.fit(X_t, y_t)\n",
    "    preds = model.predict(X_v)\n",
    "    return mean_absolute_error(y_v, preds)\n",
    "    \n",
    "# Fill in the best model\n",
    "mae_table=[]\n",
    "for i in range(0, len(models)):\n",
    "    mae_table.append(score_model(models[i]))\n",
    "    print(\"Model %d MAE: %d\" % (i+1, mae_table[i]))\n",
    "\n",
    "best_model = models[mae_table.index(min(mae_table))]\n",
    "print(models.index(best_model))"
   ]
  },
  {
   "cell_type": "code",
   "execution_count": 13,
   "id": "0eb15415",
   "metadata": {
    "execution": {
     "iopub.execute_input": "2022-11-02T16:41:52.410483Z",
     "iopub.status.busy": "2022-11-02T16:41:52.410043Z",
     "iopub.status.idle": "2022-11-02T16:41:52.721926Z",
     "shell.execute_reply": "2022-11-02T16:41:52.720635Z"
    },
    "papermill": {
     "duration": 0.324165,
     "end_time": "2022-11-02T16:41:52.724672",
     "exception": false,
     "start_time": "2022-11-02T16:41:52.400507",
     "status": "completed"
    },
    "tags": []
   },
   "outputs": [
    {
     "name": "stdout",
     "output_type": "stream",
     "text": [
      "MAE: 0.30435064935064937\n"
     ]
    }
   ],
   "source": [
    "#TRAITER VIA PIPELINE AVEC CROSS VALIDATION AVEC PREPROCESSING (NUM ET CAT) in PIPELINE\n",
    "#COMPARER RESULTATS POST CV POUR DIFFERENTES VALEURS (nombre d arbres) DU RANDOMFOREST\n",
    "\n",
    "val_X.head()\n",
    "\n",
    "from sklearn.compose import ColumnTransformer\n",
    "from sklearn.pipeline import Pipeline\n",
    "from sklearn.impute import SimpleImputer\n",
    "from sklearn.preprocessing import OneHotEncoder\n",
    "\n",
    "# Divide data into training and validation subsets\n",
    "X_train_full, X_valid_full, y_train, y_valid = train_test_split(X, y, train_size=0.8, test_size=0.2,\n",
    "                                                                random_state=0)\n",
    "\n",
    "# \"Cardinality\" means the number of unique values in a column\n",
    "# Select categorical columns with relatively low cardinality (convenient but arbitrary)\n",
    "categorical_cols = [cname for cname in X_train_full.columns if X_train_full[cname].nunique() < 10 and \n",
    "                        X_train_full[cname].dtype == \"object\"]\n",
    "\n",
    "# Select numerical columns\n",
    "numerical_cols = [cname for cname in X_train_full.columns if X_train_full[cname].dtype in ['int64', 'float64']]\n",
    "\n",
    "# Keep selected columns only\n",
    "my_cols = categorical_cols + numerical_cols\n",
    "X_train = X_train_full[my_cols].copy()\n",
    "X_valid = X_valid_full[my_cols].copy()\n",
    "\n",
    "# Preprocessing for numerical data\n",
    "numerical_transformer = SimpleImputer(strategy='constant')\n",
    "\n",
    "# Preprocessing for categorical data\n",
    "categorical_transformer = Pipeline(steps=[\n",
    "    ('imputer', SimpleImputer(strategy='most_frequent')),\n",
    "    ('onehot', OneHotEncoder(handle_unknown='ignore'))\n",
    "])\n",
    "\n",
    "# Bundle preprocessing for numerical and categorical data\n",
    "preprocessor = ColumnTransformer(\n",
    "    transformers=[\n",
    "        ('num', numerical_transformer, numerical_cols),\n",
    "        ('cat', categorical_transformer, categorical_cols)\n",
    "    ])\n",
    "\n",
    "model = RandomForestRegressor(n_estimators=100, random_state=0)\n",
    "\n",
    "# Bundle preprocessing and modeling code in a pipeline\n",
    "my_pipeline = Pipeline(steps=[('preprocessor', preprocessor),\n",
    "                              ('model', model)\n",
    "                             ])\n",
    "\n",
    "# Preprocessing of training data, fit model \n",
    "my_pipeline.fit(X_train, y_train)\n",
    "\n",
    "# Preprocessing of validation data, get predictions\n",
    "preds = my_pipeline.predict(X_valid)\n",
    "\n",
    "# Evaluate the model\n",
    "score = mean_absolute_error(y_valid, preds)\n",
    "print('MAE:', score)"
   ]
  },
  {
   "cell_type": "code",
   "execution_count": 14,
   "id": "fcd0b7b6",
   "metadata": {
    "execution": {
     "iopub.execute_input": "2022-11-02T16:41:52.742853Z",
     "iopub.status.busy": "2022-11-02T16:41:52.742435Z",
     "iopub.status.idle": "2022-11-02T16:43:31.730235Z",
     "shell.execute_reply": "2022-11-02T16:43:31.729242Z"
    },
    "papermill": {
     "duration": 99.000144,
     "end_time": "2022-11-02T16:43:31.732999",
     "exception": false,
     "start_time": "2022-11-02T16:41:52.732855",
     "status": "completed"
    },
    "tags": []
   },
   "outputs": [],
   "source": [
    "#FEATURES EXTRACTION/CONSTRUCTION : CLUSTERING (kmean) AND PCA\n",
    "#extraction des features pertinents pour prévoir le classement des chansons\n",
    "\n",
    "spotify=pd.read_csv('/kaggle/input/spotify-charts/charts.csv')\n"
   ]
  },
  {
   "cell_type": "code",
   "execution_count": 15,
   "id": "ac15e5e4",
   "metadata": {
    "execution": {
     "iopub.execute_input": "2022-11-02T16:43:31.752141Z",
     "iopub.status.busy": "2022-11-02T16:43:31.751331Z",
     "iopub.status.idle": "2022-11-02T16:43:35.476012Z",
     "shell.execute_reply": "2022-11-02T16:43:35.474470Z"
    },
    "papermill": {
     "duration": 3.738627,
     "end_time": "2022-11-02T16:43:35.480097",
     "exception": false,
     "start_time": "2022-11-02T16:43:31.741470",
     "status": "completed"
    },
    "tags": []
   },
   "outputs": [
    {
     "name": "stdout",
     "output_type": "stream",
     "text": [
      "Argentina        455308\n",
      "United States    455057\n",
      "Austria          454593\n",
      "Brazil           454439\n",
      "Australia        453103\n",
      "                  ...  \n",
      "Ukraine          127544\n",
      "Russia           126837\n",
      "Luxembourg        98053\n",
      "Andorra           79592\n",
      "South Korea       76276\n",
      "Name: region, Length: 70, dtype: int64\n"
     ]
    }
   ],
   "source": [
    "#On enlève l'url (non informatif) et on se donne une idée du nombre de régions du monde représentées\n",
    "sp_url=spotify.drop('url', axis=1)\n",
    "sp_url.head()\n",
    "print(sp_url['region'].value_counts())\n",
    "spotify_new=sp_url"
   ]
  },
  {
   "cell_type": "code",
   "execution_count": 16,
   "id": "83e54769",
   "metadata": {
    "execution": {
     "iopub.execute_input": "2022-11-02T16:43:35.499220Z",
     "iopub.status.busy": "2022-11-02T16:43:35.498131Z",
     "iopub.status.idle": "2022-11-02T16:43:35.512801Z",
     "shell.execute_reply": "2022-11-02T16:43:35.511763Z"
    },
    "papermill": {
     "duration": 0.02664,
     "end_time": "2022-11-02T16:43:35.515190",
     "exception": false,
     "start_time": "2022-11-02T16:43:35.488550",
     "status": "completed"
    },
    "tags": []
   },
   "outputs": [
    {
     "data": {
      "text/html": [
       "<div>\n",
       "<style scoped>\n",
       "    .dataframe tbody tr th:only-of-type {\n",
       "        vertical-align: middle;\n",
       "    }\n",
       "\n",
       "    .dataframe tbody tr th {\n",
       "        vertical-align: top;\n",
       "    }\n",
       "\n",
       "    .dataframe thead th {\n",
       "        text-align: right;\n",
       "    }\n",
       "</style>\n",
       "<table border=\"1\" class=\"dataframe\">\n",
       "  <thead>\n",
       "    <tr style=\"text-align: right;\">\n",
       "      <th></th>\n",
       "      <th>title</th>\n",
       "      <th>rank</th>\n",
       "      <th>date</th>\n",
       "      <th>artist</th>\n",
       "      <th>region</th>\n",
       "      <th>chart</th>\n",
       "      <th>trend</th>\n",
       "      <th>streams</th>\n",
       "    </tr>\n",
       "  </thead>\n",
       "  <tbody>\n",
       "    <tr>\n",
       "      <th>0</th>\n",
       "      <td>Chantaje (feat. Maluma)</td>\n",
       "      <td>1</td>\n",
       "      <td>2017-01-01</td>\n",
       "      <td>Shakira</td>\n",
       "      <td>Argentina</td>\n",
       "      <td>top200</td>\n",
       "      <td>SAME_POSITION</td>\n",
       "      <td>253019.0</td>\n",
       "    </tr>\n",
       "    <tr>\n",
       "      <th>1</th>\n",
       "      <td>Vente Pa' Ca (feat. Maluma)</td>\n",
       "      <td>2</td>\n",
       "      <td>2017-01-01</td>\n",
       "      <td>Ricky Martin</td>\n",
       "      <td>Argentina</td>\n",
       "      <td>top200</td>\n",
       "      <td>MOVE_UP</td>\n",
       "      <td>223988.0</td>\n",
       "    </tr>\n",
       "    <tr>\n",
       "      <th>2</th>\n",
       "      <td>Reggaetón Lento (Bailemos)</td>\n",
       "      <td>3</td>\n",
       "      <td>2017-01-01</td>\n",
       "      <td>CNCO</td>\n",
       "      <td>Argentina</td>\n",
       "      <td>top200</td>\n",
       "      <td>MOVE_DOWN</td>\n",
       "      <td>210943.0</td>\n",
       "    </tr>\n",
       "    <tr>\n",
       "      <th>3</th>\n",
       "      <td>Safari</td>\n",
       "      <td>4</td>\n",
       "      <td>2017-01-01</td>\n",
       "      <td>J Balvin, Pharrell Williams, BIA, Sky</td>\n",
       "      <td>Argentina</td>\n",
       "      <td>top200</td>\n",
       "      <td>SAME_POSITION</td>\n",
       "      <td>173865.0</td>\n",
       "    </tr>\n",
       "    <tr>\n",
       "      <th>4</th>\n",
       "      <td>Shaky Shaky</td>\n",
       "      <td>5</td>\n",
       "      <td>2017-01-01</td>\n",
       "      <td>Daddy Yankee</td>\n",
       "      <td>Argentina</td>\n",
       "      <td>top200</td>\n",
       "      <td>MOVE_UP</td>\n",
       "      <td>153956.0</td>\n",
       "    </tr>\n",
       "  </tbody>\n",
       "</table>\n",
       "</div>"
      ],
      "text/plain": [
       "                         title  rank        date  \\\n",
       "0      Chantaje (feat. Maluma)     1  2017-01-01   \n",
       "1  Vente Pa' Ca (feat. Maluma)     2  2017-01-01   \n",
       "2   Reggaetón Lento (Bailemos)     3  2017-01-01   \n",
       "3                       Safari     4  2017-01-01   \n",
       "4                  Shaky Shaky     5  2017-01-01   \n",
       "\n",
       "                                  artist     region   chart          trend  \\\n",
       "0                                Shakira  Argentina  top200  SAME_POSITION   \n",
       "1                           Ricky Martin  Argentina  top200        MOVE_UP   \n",
       "2                                   CNCO  Argentina  top200      MOVE_DOWN   \n",
       "3  J Balvin, Pharrell Williams, BIA, Sky  Argentina  top200  SAME_POSITION   \n",
       "4                           Daddy Yankee  Argentina  top200        MOVE_UP   \n",
       "\n",
       "    streams  \n",
       "0  253019.0  \n",
       "1  223988.0  \n",
       "2  210943.0  \n",
       "3  173865.0  \n",
       "4  153956.0  "
      ]
     },
     "execution_count": 16,
     "metadata": {},
     "output_type": "execute_result"
    }
   ],
   "source": [
    "spotify_new.head()"
   ]
  },
  {
   "cell_type": "code",
   "execution_count": 17,
   "id": "d1e76f6c",
   "metadata": {
    "execution": {
     "iopub.execute_input": "2022-11-02T16:43:35.534530Z",
     "iopub.status.busy": "2022-11-02T16:43:35.533257Z",
     "iopub.status.idle": "2022-11-02T16:44:05.874477Z",
     "shell.execute_reply": "2022-11-02T16:44:05.873078Z"
    },
    "papermill": {
     "duration": 30.353658,
     "end_time": "2022-11-02T16:44:05.877332",
     "exception": false,
     "start_time": "2022-11-02T16:43:35.523674",
     "status": "completed"
    },
    "tags": []
   },
   "outputs": [],
   "source": [
    "# On split en train set et validation set\n",
    "from sklearn.model_selection import train_test_split\n",
    "\n",
    "my_attributes=[\"title\", \"date\", \"artist\", \"region\", \"chart\", \"trend\", \"streams\"]\n",
    "X=spotify_new[my_attributes]\n",
    "y=spotify_new[\"rank\"]\n",
    "X_train_full, X_valid_full, y_train, y_valid = train_test_split(X, y, random_state=1)"
   ]
  },
  {
   "cell_type": "code",
   "execution_count": 18,
   "id": "ff15dbc2",
   "metadata": {
    "execution": {
     "iopub.execute_input": "2022-11-02T16:44:05.896371Z",
     "iopub.status.busy": "2022-11-02T16:44:05.895910Z",
     "iopub.status.idle": "2022-11-02T16:44:05.904500Z",
     "shell.execute_reply": "2022-11-02T16:44:05.903274Z"
    },
    "papermill": {
     "duration": 0.020838,
     "end_time": "2022-11-02T16:44:05.906880",
     "exception": false,
     "start_time": "2022-11-02T16:44:05.886042",
     "status": "completed"
    },
    "tags": []
   },
   "outputs": [
    {
     "data": {
      "text/plain": [
       "13264138     29\n",
       "16306337    103\n",
       "16415401    167\n",
       "4986201      49\n",
       "17529357      4\n",
       "Name: rank, dtype: int64"
      ]
     },
     "execution_count": 18,
     "metadata": {},
     "output_type": "execute_result"
    }
   ],
   "source": [
    "y_train.head()"
   ]
  },
  {
   "cell_type": "code",
   "execution_count": 19,
   "id": "58cbfcfb",
   "metadata": {
    "execution": {
     "iopub.execute_input": "2022-11-02T16:44:05.926015Z",
     "iopub.status.busy": "2022-11-02T16:44:05.925096Z",
     "iopub.status.idle": "2022-11-02T17:01:04.614331Z",
     "shell.execute_reply": "2022-11-02T17:01:04.612250Z"
    },
    "papermill": {
     "duration": 1018.72315,
     "end_time": "2022-11-02T17:01:04.638417",
     "exception": false,
     "start_time": "2022-11-02T16:44:05.915267",
     "status": "completed"
    },
    "tags": []
   },
   "outputs": [
    {
     "name": "stdout",
     "output_type": "stream",
     "text": [
      "MAE: 35.021379314996935\n"
     ]
    }
   ],
   "source": [
    "# On va comparer deux approches : la PCA (analyse en composantes principales, \n",
    "# ou axes de variance max) et le kmeans clustering\n",
    "\n",
    "# 1 - PCA (il faut standardiser les données)\n",
    "\n",
    "# 2 - kmeans clustering (il faut normer les données)\n",
    "\n",
    "#1 PCA\n",
    "\n",
    "from sklearn.decomposition import PCA\n",
    "from sklearn.preprocessing import StandardScaler\n",
    "\n",
    "my_pca=PCA()\n",
    "scaler = StandardScaler()\n",
    "# On preprocesse données num et non num\n",
    "\n",
    "# Select categorical columns with relatively low cardinality (convenient but arbitrary)\n",
    "categorical_cols = [cname for cname in X_train_full.columns if X_train_full[cname].nunique() < 10 and \n",
    "                        X_train_full[cname].dtype == \"object\"]\n",
    "\n",
    "# Select numerical columns\n",
    "numerical_cols = [cname for cname in X_train_full.columns if X_train_full[cname].dtype in ['int64', 'float64']]\n",
    "\n",
    "# Keep selected columns only\n",
    "my_cols = categorical_cols + numerical_cols\n",
    "X_train = X_train_full[my_cols].copy()\n",
    "X_valid = X_valid_full[my_cols].copy()\n",
    "\n",
    "# Preprocessing for numerical data\n",
    "numerical_transformer = SimpleImputer(strategy='constant')\n",
    "\n",
    "# Preprocessing for categorical data\n",
    "categorical_transformer = Pipeline(steps=[\n",
    "    ('imputer', SimpleImputer(strategy='most_frequent')),\n",
    "    ('onehot', OneHotEncoder(handle_unknown='ignore'))])\n",
    "    \n",
    "# Bundle preprocessing for numerical and categorical data\n",
    "preprocessor = ColumnTransformer(\n",
    "    transformers=[\n",
    "        ('num', numerical_transformer, numerical_cols),\n",
    "        ('cat', categorical_transformer, categorical_cols)\n",
    "    ])\n",
    "    \n",
    "model = RandomForestRegressor(n_estimators=10, random_state=0, max_depth=10)\n",
    "\n",
    "# Bundle preprocessing and modeling code in a pipeline\n",
    "my_pipeline = Pipeline(steps=[('preprocessor', preprocessor), \n",
    "                              (\"scaler\", scaler),\n",
    "                              ('pca', my_pca),\n",
    "                              ('model', model)\n",
    "                             ])\n",
    "\n",
    "# Preprocessing of training data, fit model \n",
    "my_pipeline.fit(X_train, y_train)\n",
    "\n",
    "# Preprocessing of validation data, get predictions\n",
    "preds = my_pipeline.predict(X_valid)\n",
    "\n",
    "# Evaluate the model\n",
    "score = mean_absolute_error(y_valid, preds)\n",
    "print('MAE:', score) "
   ]
  },
  {
   "cell_type": "code",
   "execution_count": 20,
   "id": "fa20ee3c",
   "metadata": {
    "execution": {
     "iopub.execute_input": "2022-11-02T17:01:04.659227Z",
     "iopub.status.busy": "2022-11-02T17:01:04.658711Z",
     "iopub.status.idle": "2022-11-02T17:20:45.273117Z",
     "shell.execute_reply": "2022-11-02T17:20:45.271621Z"
    },
    "papermill": {
     "duration": 1180.637475,
     "end_time": "2022-11-02T17:20:45.284962",
     "exception": false,
     "start_time": "2022-11-02T17:01:04.647487",
     "status": "completed"
    },
    "tags": []
   },
   "outputs": [
    {
     "name": "stdout",
     "output_type": "stream",
     "text": [
      "MAE: 35.038190688876625\n"
     ]
    }
   ],
   "source": [
    "#2 k-means clustering\n",
    "from sklearn.cluster import KMeans\n",
    "from sklearn.preprocessing import StandardScaler\n",
    "\n",
    "# Create cluster feature\n",
    "my_kmeans = KMeans(n_clusters=6)\n",
    "scaler = StandardScaler()\n",
    "\n",
    "model = RandomForestRegressor(n_estimators=10, random_state=0, max_depth=10)\n",
    "\n",
    "# Bundle preprocessing and modeling code in a pipeline\n",
    "my_pipeline = Pipeline(steps=[('preprocessor', preprocessor), \n",
    "                              (\"scaler\", scaler),\n",
    "                              ('kmeans', my_kmeans),\n",
    "                              ('model', model)\n",
    "                             ])\n",
    "\n",
    "# Preprocessing of training data, fit model \n",
    "my_pipeline.fit(X_train, y_train)\n",
    "\n",
    "# Preprocessing of validation data, get predictions\n",
    "preds = my_pipeline.predict(X_valid)\n",
    "\n",
    "# Evaluate the model\n",
    "score = mean_absolute_error(y_valid, preds)\n",
    "print('MAE:', score)"
   ]
  },
  {
   "cell_type": "code",
   "execution_count": null,
   "id": "161d0004",
   "metadata": {
    "papermill": {
     "duration": 0.008573,
     "end_time": "2022-11-02T17:20:45.302251",
     "exception": false,
     "start_time": "2022-11-02T17:20:45.293678",
     "status": "completed"
    },
    "tags": []
   },
   "outputs": [],
   "source": [
    "\n"
   ]
  },
  {
   "cell_type": "code",
   "execution_count": 21,
   "id": "ab02fe62",
   "metadata": {
    "execution": {
     "iopub.execute_input": "2022-11-02T17:20:45.322674Z",
     "iopub.status.busy": "2022-11-02T17:20:45.321789Z",
     "iopub.status.idle": "2022-11-02T17:20:45.326674Z",
     "shell.execute_reply": "2022-11-02T17:20:45.325846Z"
    },
    "papermill": {
     "duration": 0.017767,
     "end_time": "2022-11-02T17:20:45.328965",
     "exception": false,
     "start_time": "2022-11-02T17:20:45.311198",
     "status": "completed"
    },
    "tags": []
   },
   "outputs": [],
   "source": [
    "#DEEPNEURALNETWORK ON THESE FEATURES (first put my data on a common scale (MinMaxScaler in sklearn))"
   ]
  }
 ],
 "metadata": {
  "kernelspec": {
   "display_name": "Python 3",
   "language": "python",
   "name": "python3"
  },
  "language_info": {
   "codemirror_mode": {
    "name": "ipython",
    "version": 3
   },
   "file_extension": ".py",
   "mimetype": "text/x-python",
   "name": "python",
   "nbconvert_exporter": "python",
   "pygments_lexer": "ipython3",
   "version": "3.7.12"
  },
  "papermill": {
   "default_parameters": {},
   "duration": 2353.23885,
   "end_time": "2022-11-02T17:20:48.468871",
   "environment_variables": {},
   "exception": null,
   "input_path": "__notebook__.ipynb",
   "output_path": "__notebook__.ipynb",
   "parameters": {},
   "start_time": "2022-11-02T16:41:35.230021",
   "version": "2.3.4"
  }
 },
 "nbformat": 4,
 "nbformat_minor": 5
}
